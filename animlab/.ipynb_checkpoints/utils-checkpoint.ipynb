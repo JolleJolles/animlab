{
 "cells": [
  {
   "cell_type": "code",
   "execution_count": null,
   "metadata": {},
   "outputs": [],
   "source": [
    "from datetime import datetime\n",
    "import os\n",
    "\n",
    "def now(timeformat = \"date\"):\n",
    "    \n",
    "    \"\"\" Returns current date or time \"\"\"\n",
    "    \n",
    "    if timeformat == \"date\":\n",
    "        return datetime.now().strftime(\"%y/%m/%d\")\n",
    "    \n",
    "    elif timeformat == \"time\":\n",
    "        return datetime.now().strftime(\"%H:%M:%S\")\n",
    "    \n",
    "    else:\n",
    "        print \"No right time format provided..\"\n",
    "\n",
    "\n",
    "def listfiles(filedir = \".\", filetype = (\".mp4\", \".mov\", \".mjpeg\",\".jpg\"), \n",
    "              dirs = False):\n",
    "    \n",
    "    \"\"\" Extracts and returns either a list of files with a specific \n",
    "        extension or a list of directories at a certain location\n",
    "    \"\"\"\n",
    "\n",
    "    if dirs:\n",
    "        outlist = [i for i in os.listdir(filedir) if os.path.isdir(os.path.join(filedir, i))]\n",
    "        \n",
    "    else:\n",
    "        outlist = [each for each in os.listdir(filedir) if each.endswith(filetype)]\n",
    "        outlist = [i for i in outlist if not i.startswith('.')]\n",
    "\n",
    "    outlist = sorted(outlist)\n",
    "    \n",
    "    return outlist"
   ]
  }
 ],
 "metadata": {
  "kernelspec": {
   "display_name": "Python 2",
   "language": "python",
   "name": "python2"
  },
  "language_info": {
   "codemirror_mode": {
    "name": "ipython",
    "version": 2
   },
   "file_extension": ".py",
   "mimetype": "text/x-python",
   "name": "python",
   "nbconvert_exporter": "python",
   "pygments_lexer": "ipython2",
   "version": "2.7.14"
  }
 },
 "nbformat": 4,
 "nbformat_minor": 2
}
